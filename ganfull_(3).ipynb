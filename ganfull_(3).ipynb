{
  "cells": [
    {
      "cell_type": "markdown",
      "metadata": {
        "id": "view-in-github",
        "colab_type": "text"
      },
      "source": [
        "<a href=\"https://colab.research.google.com/github/animesh182/Final-Year-Project/blob/main/ganfull_(3).ipynb\" target=\"_parent\"><img src=\"https://colab.research.google.com/assets/colab-badge.svg\" alt=\"Open In Colab\"/></a>"
      ]
    },
    {
      "cell_type": "markdown",
      "metadata": {
        "id": "skQjIiKsQGSK"
      },
      "source": [
        "IMPORTING LIBRARIES"
      ]
    },
    {
      "cell_type": "code",
      "execution_count": null,
      "metadata": {
        "id": "RlqdYg7bQGSQ"
      },
      "outputs": [],
      "source": [
        "import os\n",
        "import math\n",
        "import numpy as np\n",
        "import torch\n",
        "import skimage\n",
        "import tensorflow as tf\n",
        "from tensorflow import keras\n",
        "from tensorflow.keras.utils import image_dataset_from_directory\n",
        "from tensorflow.keras import layers\n",
        "from tensorflow.keras.utils import load_img\n",
        "from tensorflow.keras.preprocessing.image import array_to_img\n",
        "from tensorflow.keras.preprocessing.image import img_to_array\n",
        "from tensorflow import keras\n",
        "import pathlib\n",
        "from keras.layers import LeakyReLU\n",
        "from keras.models import Sequential\n",
        "from keras.layers import Flatten\n",
        "from keras.layers import Dense\n",
        "from keras.layers import BatchNormalization\n",
        "from keras.layers import Reshape\n",
        "from keras.layers import PReLU\n",
        "from IPython import display\n",
        "import random\n",
        "from matplotlib import pyplot\n",
        "import PIL\n",
        "from tensorflow.keras.applications import VGG19\n",
        "\n"
      ]
    },
    {
      "cell_type": "markdown",
      "source": [
        "SETTING GLOBAL VARIABLES"
      ],
      "metadata": {
        "id": "g7tROOVXfptG"
      }
    },
    {
      "cell_type": "code",
      "source": [
        "train_ds_lr = keras.Input(shape=(24,24,1))\n",
        "train_ds_hr = keras.Input(shape=(96,96,1))\n",
        "crop_size = (96, 96)\n",
        "batch_size = 64\n",
        "upscale_factor = 4\n",
        "input_size = 24 "
      ],
      "metadata": {
        "id": "cLuDbYuUfsgu"
      },
      "execution_count": null,
      "outputs": []
    },
    {
      "cell_type": "markdown",
      "metadata": {
        "id": "W7r6S9c1QGSS"
      },
      "source": [
        "DEFINING DISCRIMINATOR MODEL"
      ]
    },
    {
      "cell_type": "code",
      "execution_count": null,
      "metadata": {
        "id": "AIfZPZTqQGSS"
      },
      "outputs": [],
      "source": [
        "def get_discriminator_model(channels=1,kernel_size=3):\n",
        "    input = (96,96,channels)\n",
        "    model = Sequential()\n",
        "    filter=[64,64,128,128,256,256,512,512]\n",
        "    for id, size in enumerate(filter):\n",
        "      if(id==0):\n",
        "        model.add(layers.Conv2D(size,kernel_size,strides=id%2+1,padding=\"same\",input_shape=input))\n",
        "      model.add(layers.Conv2D(size,kernel_size = 3, strides=id % 2 + 1, padding=\"same\"))\n",
        "      model.add(BatchNormalization())\n",
        "      model.add(LeakyReLU(alpha=0.2))\n",
        "\n",
        "    model.add(Flatten())\n",
        "    model.add(Dense(1024))\n",
        "    model.add(LeakyReLU(alpha=0.2))\n",
        "    model.add(Dense(1, activation=\"sigmoid\"))\n",
        "    return model\n",
        "\n",
        "\n"
      ]
    },
    {
      "cell_type": "markdown",
      "source": [
        "                                                                      DEFINING GENERATOR MODEL"
      ],
      "metadata": {
        "id": "JwawoO5oIHM4"
      }
    },
    {
      "cell_type": "code",
      "source": [
        "\n",
        "def get_generator_model(channels=1):           # Main Method that returns gen model\n",
        "  input = keras.Input(shape=(24,24,channels))\n",
        "  model = layers.Conv2D(64,kernel_size=9,strides=1,padding=\"same\")(input)\n",
        "  model = PReLU()(model)\n",
        "  NewModel= get_generator_residual(model)\n",
        "  FinalModel = get_generator_shuffler(NewModel)\n",
        "  FinalModel = layers.Conv2D(1,kernel_size=9,strides=1,padding=\"same\")(FinalModel)\n",
        "  FinalModel = layers.Rescaling(scale=127.5, offset=127.5)(FinalModel)\n",
        "  return keras.Model(input,FinalModel)\n",
        "\n",
        "  \n",
        "def get_generator_residual(model, kernel_size=3, filters=64, stride=1):\n",
        "  residual = np.arange(15)\n",
        "  NewModel = layers.Conv2D(filters,kernel_size, stride, padding=\"same\")(model)\n",
        "  NewModel = BatchNormalization()(NewModel)\n",
        "  NewModel = PReLU()(NewModel)\n",
        "  NewModel = layers.Conv2D(filters,kernel_size,stride, padding=\"same\")(NewModel)\n",
        "  NewModel = BatchNormalization()(NewModel)\n",
        "  xSkip = layers.Add()([model, NewModel])\n",
        "  for x in residual:\n",
        "    if x!=14:\n",
        "      NewModel = layers.Conv2D(filters,kernel_size, stride, padding=\"same\")(xSkip)\n",
        "      NewModel = BatchNormalization()(NewModel)\n",
        "      NewModel = PReLU()(NewModel)\n",
        "      NewModel = layers.Conv2D(filters,kernel_size,stride, padding=\"same\")(NewModel)\n",
        "      NewModel = BatchNormalization()(NewModel)\n",
        "      xSkip = layers.Add()([xSkip, NewModel])\n",
        "    else:\n",
        "      NewModel = layers.Conv2D(filters,kernel_size, stride, padding=\"same\")(xSkip)\n",
        "      NewModel = BatchNormalization()(NewModel)\n",
        "      NewModel = layers.Add()([model,NewModel])\n",
        "  return NewModel\n",
        "\n",
        "def get_generator_shuffler(model, kernel_size=3,filters=256,stride=1,upscale_factor=2):\n",
        "  iterator = np.arange(2)\n",
        "  for  x in iterator:\n",
        "    model = layers.Conv2D(filters,kernel_size,stride,padding=\"same\")(model)\n",
        "    model = tf.nn.depth_to_space(model,upscale_factor)\n",
        "    z=layers.PReLU()(model)\n",
        "  return z\n",
        "\n",
        "\n"
      ],
      "metadata": {
        "id": "eB6ABDLqPVr0"
      },
      "execution_count": null,
      "outputs": []
    },
    {
      "cell_type": "markdown",
      "source": [
        "DEFINING ACTUAL GAN MODEL"
      ],
      "metadata": {
        "id": "YjP-q8S3zjog"
      }
    },
    {
      "cell_type": "code",
      "source": [
        "def get_gan_model(gen_model, dis_model,vgg,lr_dataset,hr_dataset):\n",
        "  gen_img= gen_model(lr_dataset)\n",
        "  dis_model.trainable = False\n",
        "  conv = tf.image.grayscale_to_rgb(gen_img) #not sure\n",
        "  # gen_img=get_original_rgb_img(gen_img)\n",
        "  gen_features = vgg(conv)\n",
        "  validity = dis_model(gen_img)\n",
        "  return keras.Model([lr_dataset,hr_dataset],[validity,gen_features])"
      ],
      "metadata": {
        "id": "EArP7tfPznEr"
      },
      "execution_count": null,
      "outputs": []
    },
    {
      "cell_type": "markdown",
      "source": [
        "DEFINING VGG19 MODEL"
      ],
      "metadata": {
        "id": "lUTKdYJAfbJD"
      }
    },
    {
      "cell_type": "code",
      "source": [
        "def build_vgg(input_size=(96,96,3)):\n",
        "    vgg = VGG19(input_shape=input_size, weights=\"imagenet\",include_top=False)\n",
        "    outputs = [vgg.layers[9].output]\n",
        "    return keras.Model(vgg.input, outputs)"
      ],
      "metadata": {
        "id": "LBHw4FpFfd2M"
      },
      "execution_count": null,
      "outputs": []
    },
    {
      "cell_type": "markdown",
      "metadata": {
        "id": "nATCIbpIQGSU"
      },
      "source": [
        "                        DATA SOURCE FOR MODEL"
      ]
    },
    {
      "cell_type": "code",
      "source": [
        "from google.colab import drive\n",
        "drive.mount('/gdrive')\n",
        "%cd /gdrive"
      ],
      "metadata": {
        "id": "KZiGIg-qSb8X",
        "colab": {
          "base_uri": "https://localhost:8080/"
        },
        "outputId": "359a088c-5c9d-4397-eb2d-f5c478f731ea"
      },
      "execution_count": null,
      "outputs": [
        {
          "output_type": "stream",
          "name": "stdout",
          "text": [
            "Mounted at /gdrive\n",
            "/gdrive\n"
          ]
        }
      ]
    },
    {
      "cell_type": "code",
      "execution_count": null,
      "metadata": {
        "id": "fMOEG7zkQGSV"
      },
      "outputs": [],
      "source": [
        "root_dir = \"/gdrive/MyDrive/dataset\"\n",
        "root_dir = pathlib.Path(root_dir)\n"
      ]
    },
    {
      "cell_type": "markdown",
      "metadata": {
        "id": "HizrDWDtQGSW"
      },
      "source": [
        "                    SPLITTING DATA INTO VALIDATION AND TRAINING"
      ]
    },
    {
      "cell_type": "code",
      "execution_count": null,
      "metadata": {
        "id": "SSMHdR_hQGSX",
        "colab": {
          "base_uri": "https://localhost:8080/"
        },
        "outputId": "0be07b6c-f326-49e1-b5be-2734450bd9be"
      },
      "outputs": [
        {
          "output_type": "stream",
          "name": "stdout",
          "text": [
            "Found 5160 files belonging to 1 classes.\n",
            "Using 4128 files for training.\n",
            "Found 5160 files belonging to 1 classes.\n",
            "Using 1032 files for validation.\n"
          ]
        }
      ],
      "source": [
        "\n",
        "train_ds = image_dataset_from_directory(\n",
        "    root_dir,\n",
        "    batch_size=batch_size,\n",
        "    image_size=crop_size,\n",
        "    validation_split=0.2,\n",
        "    subset=\"training\",\n",
        "    seed=1337,\n",
        "    label_mode=None,\n",
        ")\n",
        "\n",
        "valid_ds = image_dataset_from_directory(\n",
        "    root_dir,\n",
        "    batch_size=batch_size,\n",
        "    image_size=crop_size,\n",
        "    validation_split=0.2,\n",
        "    subset=\"validation\",\n",
        "    seed=1337,\n",
        "    label_mode=None,\n",
        ")\n",
        "# dataset = os.path.join(root_dir, \"finished/train/dataraw\")\n",
        "# train_path = os.path.join(dataset, \"hires\")\n",
        "# train_img_paths = sorted(\n",
        "#     [\n",
        "#         os.path.join(test_path, fname)\n",
        "#         for fname in os.listdir(train_path)\n",
        "#         if fname.endswith(\".jpg\")\n",
        "#     ]\n",
        "# )\n",
        "testset = os.path.join(root_dir,\"finished\")\n",
        "test_path = os.path.join(testset, \"test\" )\n",
        "\n",
        "test_img_paths=sorted(\n",
        "    [\n",
        "     os.path.join(test_path,fname)\n",
        "     for fname in os.listdir(test_path)\n",
        "     if fname.endswith(\".jpg\")\n",
        "    ]\n",
        ")\n"
      ]
    },
    {
      "cell_type": "markdown",
      "metadata": {
        "id": "MT1SrOR9QGSY"
      },
      "source": [
        "                              PREPPING DATASET FOR MODEL INPUT AND COMPARISON\n",
        "\n"
      ]
    },
    {
      "cell_type": "code",
      "source": [
        "def normalize(images):\n",
        "  images = tf.cast(images, tf.float32)\n",
        "  images /= 255\n",
        "  return images\n",
        "\n",
        "# The map function applies the normalize function to each element in the train\n",
        "# and test datasets\n",
        "train_ds_vgg =  train_ds.map(normalize)\n",
        "print(train_ds)\n",
        "\n",
        "valid_ds  =  valid_ds.map(normalize)"
      ],
      "metadata": {
        "id": "YDYpfftrAzI6",
        "colab": {
          "base_uri": "https://localhost:8080/"
        },
        "outputId": "21a4c0a4-4a2c-4489-880c-ecedfad14396"
      },
      "execution_count": null,
      "outputs": [
        {
          "output_type": "stream",
          "name": "stdout",
          "text": [
            "<BatchDataset element_spec=TensorSpec(shape=(None, 96, 96, 3), dtype=tf.float32, name=None)>\n"
          ]
        }
      ]
    },
    {
      "cell_type": "code",
      "source": [
        "for batch in train_ds.take(1):\n",
        "  i = 0\n",
        "  for img in batch:\n",
        "      display.display(array_to_img(img))\n",
        "      i+=1\n",
        "      if i == 2:\n",
        "        break"
      ],
      "metadata": {
        "id": "dttB6zQWHOYW",
        "colab": {
          "base_uri": "https://localhost:8080/",
          "height": 209
        },
        "outputId": "c55b90b8-c4e9-44b6-df90-715486a4cd6d"
      },
      "execution_count": null,
      "outputs": [
        {
          "output_type": "display_data",
          "data": {
            "text/plain": [
              "<PIL.Image.Image image mode=RGB size=96x96 at 0x7F592AB55C50>"
            ],
            "image/png": "[encoded data removed]"
          },
          "metadata": {}
        },
        {
          "output_type": "display_data",
          "data": {
            "text/plain": [
              "<PIL.Image.Image image mode=RGB size=96x96 at 0x7F592AAE2D10>"
            ],
            "image/png": "[encoded data removed]"
          },
          "metadata": {}
        }
      ]
    },
    {
      "cell_type": "code",
      "execution_count": null,
      "metadata": {
        "id": "k6UHFeOQQGSZ",
        "colab": {
          "base_uri": "https://localhost:8080/",
          "height": 175
        },
        "outputId": "409212ad-f7a7-435c-fc63-4291b9ac03fe"
      },
      "outputs": [
        {
          "output_type": "stream",
          "name": "stdout",
          "text": [
            "<MapDataset element_spec=(TensorSpec(shape=(None, 24, 24, 1), dtype=tf.float32, name=None), TensorSpec(shape=(None, 96, 96, 1), dtype=tf.float32, name=None), TensorSpec(shape=(None, 96, 96, 3), dtype=tf.float32, name=None))>\n"
          ]
        },
        {
          "output_type": "display_data",
          "data": {
            "text/plain": [
              "<PIL.Image.Image image mode=L size=24x24 at 0x7F592AA69150>"
            ],
            "image/png": "[encoded data removed]"
          },
          "metadata": {}
        },
        {
          "output_type": "display_data",
          "data": {
            "text/plain": [
              "<PIL.Image.Image image mode=L size=96x96 at 0x7F592AA9CC50>"
            ],
            "image/png": "[encoded data removed]"
          },
          "metadata": {}
        }
      ],
      "source": [
        "# Makes Image B/W\n",
        "def process_input(input, input_size):\n",
        "    input = tf.image.rgb_to_yuv(input)\n",
        "    last_dimension_axis = len(input.shape) - 1\n",
        "    y, u, v = tf.split(input, 3, axis=last_dimension_axis)\n",
        "    return tf.image.resize(y, [input_size, input_size], method=\"area\")\n",
        "\n",
        "def process_target(input):\n",
        "    input = tf.image.rgb_to_yuv(input)\n",
        "    last_dimension_axis = len(input.shape) - 1\n",
        "    y, u, v = tf.split(input, 3, axis=last_dimension_axis)\n",
        "    return y\n",
        "\n",
        "def process_original(input):\n",
        "  return input\n",
        "\n",
        "\n",
        "\n",
        "\n",
        "\n",
        "\n",
        "train_ds = train_ds.map(\n",
        "    lambda x: (process_input(x,input_size=24),process_target(x),process_original(x))\n",
        ")\n",
        "print(train_ds)\n",
        "for batch in train_ds.take(1):\n",
        "  i = 0\n",
        "  for img in batch:\n",
        "      display.display(array_to_img(img[0]))\n",
        "      i+=1\n",
        "      if i == 2:\n",
        "        break"
      ]
    },
    {
      "cell_type": "code",
      "source": [
        "def get_lowres_image(img,upscale_factor):\n",
        "  return img.resize((img.size[0] // upscale_factor, img.size[1] // upscale_factor), PIL.Image.BICUBIC,)\n",
        "\n",
        "\n",
        "def print_rgb_img(gray_img, cb,cr,width,height):\n",
        "    pred_img_y = np.clip(gray_img, 0, 255)\n",
        "    pred_img_y=np.squeeze(gray_img)\n",
        "    pred_img_y = pred_img_y.reshape((np.shape(pred_img_y)[0], np.shape(pred_img_y)[1]))\n",
        "    pred_img_y = PIL.Image.fromarray(np.uint8(pred_img_y), mode=\"L\")\n",
        "    pred_img_cb = cb.resize(pred_img_y.size, PIL.Image.BICUBIC)\n",
        "    pred_img_cr = cr.resize(pred_img_y.size, PIL.Image.BICUBIC)\n",
        "    pred_img = PIL.Image.merge(\"YCbCr\", (pred_img_y, pred_img_cb, pred_img_cr)).convert(\"RGB\")\n",
        "    pred_img.resize((width,height))\n",
        "    org = img_to_array(pred_img)\n",
        "    save_plot(org)\n"
      ],
      "metadata": {
        "id": "JUkjviGXZ_zT"
      },
      "execution_count": null,
      "outputs": []
    },
    {
      "cell_type": "markdown",
      "metadata": {
        "id": "XMzsbiOGQGSZ"
      },
      "source": [
        "                                                REAL(SUPER RESOLUTIONED) SAMPLES FROM GENERATOR"
      ]
    },
    {
      "cell_type": "code",
      "execution_count": null,
      "metadata": {
        "id": "wnxuiLR8QGSa"
      },
      "outputs": [],
      "source": [
        "def real_sample_generator(dataset, samples):\n",
        "  y = np.asarray(dataset[1], dtype='object')\n",
        "  rd = np.random.randint(0,int(y.shape[0]),int(samples))\n",
        "  selected_real = y[rd].astype('float32')\n",
        "  numbering = np.ones((samples,1))\n",
        "  print(selected_real.shape)\n",
        "  return selected_real, numbering\n"
      ]
    },
    {
      "cell_type": "markdown",
      "metadata": {
        "id": "HiEM6eAkQGSa"
      },
      "source": [
        "        FAKE SAMPLES FOR DISCRIMINATOR AKA REAL SAMPLES FROM GENERATOR\n",
        "\n",
        "\n"
      ]
    },
    {
      "cell_type": "code",
      "execution_count": null,
      "metadata": {
        "id": "D-f0wwMkQGSb"
      },
      "outputs": [],
      "source": [
        "def fake_sample_generator(gen_model, images, samples):\n",
        "  y = np.asarray(images[0], dtype='object')\n",
        "  rd = np.random.randint(0,int(y.shape[0]),int(samples))\n",
        "  selected_real = y[rd].astype('float32')\n",
        "  fake_samples = gen_model.predict(selected_real)\n",
        "  numbering= np.zeros((samples,1))\n",
        "  return fake_samples, numbering\n",
        "    "
      ]
    },
    {
      "cell_type": "markdown",
      "source": [
        "Image Generator"
      ],
      "metadata": {
        "id": "K9BnZ0iMQFcd"
      }
    },
    {
      "cell_type": "code",
      "source": [
        "def hq_image_generator(gen_model,img_path,samples,counter,test_phase=True):\n",
        " print(\"Generating Images\")\n",
        " fake_samples = 0\n",
        " for  image in img_path[counter:counter+samples]:\n",
        "    img = load_img(image)\n",
        "\n",
        "    w = img.size[0]\n",
        "    h = img.size[1]\n",
        "    img = img.resize((96,96))\n",
        "    test_1 = img_to_array(img)\n",
        "    final = np.array([test_1])\n",
        "    save_plot(final)\n",
        "    image = get_lowres_image(img,upscale_factor)\n",
        "    test = img_to_array(image)\n",
        "    final = np.array([test])\n",
        "    save_plot(final)\n",
        "    ycbcr = image.convert(\"YCbCr\")\n",
        "    y, cb, cr = ycbcr.split()\n",
        "    y = img_to_array(y)\n",
        "    input_arr = np.expand_dims(y, axis=0)\n",
        "    save_plot(input_arr)\n",
        "    final_samples = gen_model.predict(input_arr)\n",
        "    pred_img_y = final_samples[0]\n",
        "    pred_img_y = np.expand_dims(pred_img_y,0)\n",
        "    if(test_phase==False):\n",
        "      print_rgb_img(pred_img_y,cb,cr,w,h)\n",
        "    \n",
        "    # pred_img_y*= 255 \n",
        "    # pred_img_y = pred_img_y.clip(0, 255)\n",
        "    # print(pred_img_y.shape)\n",
        "    # pred_img_y = pred_img_y.reshape((np.shape(pred_img_y)[0], np.shape(pred_img_y)[1]))\n",
        "    # print(pred_img_y.shape)\n",
        "    # pred_img_y = PIL.Image.fromarray(np.uint8(pred_img_y), mode=\"L\")\n",
        "    # pred_img_cb = cb.resize(pred_img_y.size, PIL.Image.BICUBIC)\n",
        "    # pred_img_cr = cr.resize(pred_img_y.size, PIL.Image.BICUBIC)\n",
        "    # pred_img = PIL.Image.merge(\"YCbCr\", (pred_img_y, pred_img_cb, pred_img_cr)).convert(\"RGB\")\n",
        "    # pred_img.resize((w,h))\n",
        "    numbering = np.zeros((samples,1))\n",
        "    return pred_img_y, numbering"
      ],
      "metadata": {
        "id": "-l0XbyPWQFDT"
      },
      "execution_count": null,
      "outputs": []
    },
    {
      "cell_type": "markdown",
      "source": [
        "TESTING GENERATED SAMPLES"
      ],
      "metadata": {
        "id": "V6GkHi9wOa-d"
      }
    },
    {
      "cell_type": "code",
      "source": [
        "def save_plot(examples):\n",
        " examples= examples.astype(\"float32\")/255\n",
        " fig, ax = pyplot.subplots()\n",
        " examples = examples.squeeze()\n",
        " im = ax.imshow(examples[::-1], origin=\"lower\",cmap=\"gray\")\n",
        " pyplot.show()\n",
        " pyplot.close()"
      ],
      "metadata": {
        "id": "eBwCQfyZOadr"
      },
      "execution_count": null,
      "outputs": []
    },
    {
      "cell_type": "markdown",
      "source": [
        "EVALUATING THE DISCRIMINATOR AND SAVING MODEL\n",
        "\n",
        "\n"
      ],
      "metadata": {
        "id": "-r82MgSNO-EQ"
      }
    },
    {
      "cell_type": "code",
      "execution_count": null,
      "metadata": {
        "id": "BPeUzJ2YQGSc"
      },
      "outputs": [],
      "source": [
        "def model_evaluation(gen_model,dis_model, dataset,epoch, sample_batch =1):\n",
        "        x_real,y_real = real_sample_generator(dataset, sample_batch)\n",
        "        print(\"finished\")\n",
        "        _,real_accuracy = dis_model.evaluate(x_real,y_real,verbose=0)\n",
        "        print(\"finished accuracy calculation\")\n",
        "        x_fake,y_fake = hq_image_generator(gen_model,test_img_paths,sample_batch,0)\n",
        "        print(\"finished2\")\n",
        "        _,fake_accuracy = dis_model.evaluate(x_fake,y_fake,verbose=0)\n",
        "        print('>%d real= %.0f%% fake = %.0f%%'%(epoch,real_accuracy*100,fake_accuracy*100))\n",
        "        %cd /gdrive/MyDrive/dataset\n",
        "        %mkdir -p saved_model\n",
        "        %cd saved_model\n",
        "        filename = 'generator_model_%03d.h5' % ( epoch + 1)\n",
        "        gen_model.save(filename)\n",
        "        save_plot(x_fake)\n"
      ]
    },
    {
      "cell_type": "markdown",
      "source": [
        "TRAINING THE MODEL"
      ],
      "metadata": {
        "id": "ssK8PP0VUWHx"
      }
    },
    {
      "cell_type": "code",
      "source": [
        "def train(gen_model,dis_model, gan_model, dataset,epochs=100,batch=64):\n",
        "    half_batch = int(batch/2)\n",
        "    for m in range(epochs):\n",
        "      for id, data in enumerate(dataset):\n",
        "        X_real, y_real = real_sample_generator(data, half_batch)\n",
        "        X_fake, y_fake = fake_sample_generator(gen_model, data, half_batch)\n",
        "        X, y = np.vstack((X_real, X_fake)), np.vstack((y_real, y_fake))\n",
        "        dis_model.trainable=True\n",
        "        print(X.shape)\n",
        "        d_loss, _ = dis_model.train_on_batch(X, y)\n",
        "        dis_model.trainable=False\n",
        "        if(id==64):\n",
        "          y_gan = np.ones((half_batch, 1))\n",
        "        else:\n",
        "          y_gan = np.ones((batch,1))\n",
        "        vgg_predict=[]\n",
        "        print(data[2].shape)\n",
        "        predict = vgg.predict(data[2])\n",
        "        g_loss,_,_ = gan_model.train_on_batch([data[0],data[1]],[y_gan,predict])\n",
        "        print('>epoch: %d, batch: %d/%d, discriminator loss: d=%.3f, overall model loss: g=%.3f' % (m, id, batch, d_loss, g_loss))\n",
        "      if (m+1) % 10 == 0:\n",
        "        model_evaluation(gen_model, dis_model, data,m )"
      ],
      "metadata": {
        "id": "ZAI4hzgHUqSk"
      },
      "execution_count": null,
      "outputs": []
    },
    {
      "cell_type": "markdown",
      "source": [
        "RUNNING THE MODEL"
      ],
      "metadata": {
        "id": "hOXE2_MDUqte"
      }
    },
    {
      "cell_type": "code",
      "source": [
        "dis_model=get_discriminator_model()\n",
        "DOptimizer = keras.optimizers.Adam(learning_rate=0.00001,beta_1=0.9)\n",
        "dis_model.compile(loss=\"binary_crossentropy\",optimizer=DOptimizer,metrics=['accuracy'])\n",
        "dis_model.summary()\n",
        "\n",
        "vgg = build_vgg()\n",
        "vgg.trainable = False\n",
        "\n",
        "gen_model=get_generator_model()\n",
        "gen_model.summary()\n",
        "\n",
        "gan_model=get_gan_model(gen_model,dis_model,vgg,train_ds_lr,train_ds_hr)\n",
        "GOptimizer=keras.optimizers.Adam(learning_rate=0.00001,beta_1=0.9)\n",
        "gan_model.compile(loss=[\"binary_crossentropy\",\"mse\"],optimizer=GOptimizer,loss_weights=[1e-3,1])\n",
        "\n",
        "train(gen_model,dis_model, gan_model, train_ds)"
      ],
      "metadata": {
        "id": "1xW1MTrlUpgr",
        "colab": {
          "base_uri": "https://localhost:8080/",
          "height": 1000
        },
        "outputId": "8964740d-fc42-4ea6-e4cd-86673e6d0b89"
      },
      "execution_count": null,
      "outputs": [
        {
          "output_type": "stream",
          "name": "stdout",
          "text": [
            "Model: \"sequential\"\n",
            "_________________________________________________________________\n",
            " Layer (type)                Output Shape              Param #   \n",
            "=================================================================\n",
            " conv2d (Conv2D)             (None, 96, 96, 64)        640       \n",
            "                                                                 \n",
            " conv2d_1 (Conv2D)           (None, 96, 96, 64)        36928     \n",
            "                                                                 \n",
            " batch_normalization (BatchN  (None, 96, 96, 64)       256       \n",
            " ormalization)                                                   \n",
            "                                                                 \n",
            " leaky_re_lu (LeakyReLU)     (None, 96, 96, 64)        0         \n",
            "                                                                 \n",
            " conv2d_2 (Conv2D)           (None, 48, 48, 64)        36928     \n",
            "                                                                 \n",
            " batch_normalization_1 (Batc  (None, 48, 48, 64)       256       \n",
            " hNormalization)                                                 \n",
            "                                                                 \n",
            " leaky_re_lu_1 (LeakyReLU)   (None, 48, 48, 64)        0         \n",
            "                                                                 \n",
            " conv2d_3 (Conv2D)           (None, 48, 48, 128)       73856     \n",
            "                                                                 \n",
            " batch_normalization_2 (Batc  (None, 48, 48, 128)      512       \n",
            " hNormalization)                                                 \n",
            "                                                                 \n",
            " leaky_re_lu_2 (LeakyReLU)   (None, 48, 48, 128)       0         \n",
            "                                                                 \n",
            " conv2d_4 (Conv2D)           (None, 24, 24, 128)       147584    \n",
            "                                                                 \n",
            " batch_normalization_3 (Batc  (None, 24, 24, 128)      512       \n",
            " hNormalization)                                                 \n",
            "                                                                 \n",
            " leaky_re_lu_3 (LeakyReLU)   (None, 24, 24, 128)       0         \n",
            "                                                                 \n",
            " conv2d_5 (Conv2D)           (None, 24, 24, 256)       295168    \n",
            "                                                                 \n",
            " batch_normalization_4 (Batc  (None, 24, 24, 256)      1024      \n",
            " hNormalization)                                                 \n",
            "                                                                 \n",
            " leaky_re_lu_4 (LeakyReLU)   (None, 24, 24, 256)       0         \n",
            "                                                                 \n",
            " conv2d_6 (Conv2D)           (None, 12, 12, 256)       590080    \n",
            "                                                                 \n",
            " batch_normalization_5 (Batc  (None, 12, 12, 256)      1024      \n",
            " hNormalization)                                                 \n",
            "                                                                 \n",
            " leaky_re_lu_5 (LeakyReLU)   (None, 12, 12, 256)       0         \n",
            "                                                                 \n",
            " conv2d_7 (Conv2D)           (None, 12, 12, 512)       1180160   \n",
            "                                                                 \n",
            " batch_normalization_6 (Batc  (None, 12, 12, 512)      2048      \n",
            " hNormalization)                                                 \n",
            "                                                                 \n",
            " leaky_re_lu_6 (LeakyReLU)   (None, 12, 12, 512)       0         \n",
            "                                                                 \n",
            " conv2d_8 (Conv2D)           (None, 6, 6, 512)         2359808   \n",
            "                                                                 \n",
            " batch_normalization_7 (Batc  (None, 6, 6, 512)        2048      \n",
            " hNormalization)                                                 \n",
            "                                                                 \n",
            " leaky_re_lu_7 (LeakyReLU)   (None, 6, 6, 512)         0         \n",
            "                                                                 \n",
            " flatten (Flatten)           (None, 18432)             0         \n",
            "                                                                 \n",
            " dense (Dense)               (None, 1024)              18875392  \n",
            "                                                                 \n",
            " leaky_re_lu_8 (LeakyReLU)   (None, 1024)              0         \n",
            "                                                                 \n",
            " dense_1 (Dense)             (None, 1)                 1025      \n",
            "                                                                 \n",
            "=================================================================\n",
            "Total params: 23,605,249\n",
            "Trainable params: 23,601,409\n",
            "Non-trainable params: 3,840\n",
            "_________________________________________________________________\n",
            "Downloading data from https://storage.googleapis.com/tensorflow/keras-applications/vgg19/vgg19_weights_tf_dim_ordering_tf_kernels_notop.h5\n",
            "80142336/80134624 [==============================] - 1s 0us/step\n",
            "80150528/80134624 [==============================] - 1s 0us/step\n",
            "Model: \"model_1\"\n",
            "__________________________________________________________________________________________________\n",
            " Layer (type)                   Output Shape         Param #     Connected to                     \n",
            "==================================================================================================\n",
            " input_4 (InputLayer)           [(None, 24, 24, 1)]  0           []                               \n",
            "                                                                                                  \n",
            " conv2d_9 (Conv2D)              (None, 24, 24, 64)   5248        ['input_4[0][0]']                \n",
            "                                                                                                  \n",
            " p_re_lu (PReLU)                (None, 24, 24, 64)   36864       ['conv2d_9[0][0]']               \n",
            "                                                                                                  \n",
            " conv2d_10 (Conv2D)             (None, 24, 24, 64)   36928       ['p_re_lu[0][0]']                \n",
            "                                                                                                  \n",
            " batch_normalization_8 (BatchNo  (None, 24, 24, 64)  256         ['conv2d_10[0][0]']              \n",
            " rmalization)                                                                                     \n",
            "                                                                                                  \n",
            " p_re_lu_1 (PReLU)              (None, 24, 24, 64)   36864       ['batch_normalization_8[0][0]']  \n",
            "                                                                                                  \n",
            " conv2d_11 (Conv2D)             (None, 24, 24, 64)   36928       ['p_re_lu_1[0][0]']              \n",
            "                                                                                                  \n",
            " batch_normalization_9 (BatchNo  (None, 24, 24, 64)  256         ['conv2d_11[0][0]']              \n",
            " rmalization)                                                                                     \n",
            "                                                                                                  \n",
            " add (Add)                      (None, 24, 24, 64)   0           ['p_re_lu[0][0]',                \n",
            "                                                                  'batch_normalization_9[0][0]']  \n",
            "                                                                                                  \n",
            " conv2d_12 (Conv2D)             (None, 24, 24, 64)   36928       ['add[0][0]']                    \n",
            "                                                                                                  \n",
            " batch_normalization_10 (BatchN  (None, 24, 24, 64)  256         ['conv2d_12[0][0]']              \n",
            " ormalization)                                                                                    \n",
            "                                                                                                  \n",
            " p_re_lu_2 (PReLU)              (None, 24, 24, 64)   36864       ['batch_normalization_10[0][0]'] \n",
            "                                                                                                  \n",
            " conv2d_13 (Conv2D)             (None, 24, 24, 64)   36928       ['p_re_lu_2[0][0]']              \n",
            "                                                                                                  \n",
            " batch_normalization_11 (BatchN  (None, 24, 24, 64)  256         ['conv2d_13[0][0]']              \n",
            " ormalization)                                                                                    \n",
            "                                                                                                  \n",
            " add_1 (Add)                    (None, 24, 24, 64)   0           ['add[0][0]',                    \n",
            "                                                                  'batch_normalization_11[0][0]'] \n",
            "                                                                                                  \n",
            " conv2d_14 (Conv2D)             (None, 24, 24, 64)   36928       ['add_1[0][0]']                  \n",
            "                                                                                                  \n",
            " batch_normalization_12 (BatchN  (None, 24, 24, 64)  256         ['conv2d_14[0][0]']              \n",
            " ormalization)                                                                                    \n",
            "                                                                                                  \n",
            " p_re_lu_3 (PReLU)              (None, 24, 24, 64)   36864       ['batch_normalization_12[0][0]'] \n",
            "                                                                                                  \n",
            " conv2d_15 (Conv2D)             (None, 24, 24, 64)   36928       ['p_re_lu_3[0][0]']              \n",
            "                                                                                                  \n",
            " batch_normalization_13 (BatchN  (None, 24, 24, 64)  256         ['conv2d_15[0][0]']              \n",
            " ormalization)                                                                                    \n",
            "                                                                                                  \n",
            " add_2 (Add)                    (None, 24, 24, 64)   0           ['add_1[0][0]',                  \n",
            "                                                                  'batch_normalization_13[0][0]'] \n",
            "                                                                                                  \n",
            " conv2d_16 (Conv2D)             (None, 24, 24, 64)   36928       ['add_2[0][0]']                  \n",
            "                                                                                                  \n",
            " batch_normalization_14 (BatchN  (None, 24, 24, 64)  256         ['conv2d_16[0][0]']              \n",
            " ormalization)                                                                                    \n",
            "                                                                                                  \n",
            " p_re_lu_4 (PReLU)              (None, 24, 24, 64)   36864       ['batch_normalization_14[0][0]'] \n",
            "                                                                                                  \n",
            " conv2d_17 (Conv2D)             (None, 24, 24, 64)   36928       ['p_re_lu_4[0][0]']              \n",
            "                                                                                                  \n",
            " batch_normalization_15 (BatchN  (None, 24, 24, 64)  256         ['conv2d_17[0][0]']              \n",
            " ormalization)                                                                                    \n",
            "                                                                                                  \n",
            " add_3 (Add)                    (None, 24, 24, 64)   0           ['add_2[0][0]',                  \n",
            "                                                                  'batch_normalization_15[0][0]'] \n",
            "                                                                                                  \n",
            " conv2d_18 (Conv2D)             (None, 24, 24, 64)   36928       ['add_3[0][0]']                  \n",
            "                                                                                                  \n",
            " batch_normalization_16 (BatchN  (None, 24, 24, 64)  256         ['conv2d_18[0][0]']              \n",
            " ormalization)                                                                                    \n",
            "                                                                                                  \n",
            " p_re_lu_5 (PReLU)              (None, 24, 24, 64)   36864       ['batch_normalization_16[0][0]'] \n",
            "                                                                                                  \n",
            " conv2d_19 (Conv2D)             (None, 24, 24, 64)   36928       ['p_re_lu_5[0][0]']              \n",
            "                                                                                                  \n",
            " batch_normalization_17 (BatchN  (None, 24, 24, 64)  256         ['conv2d_19[0][0]']              \n",
            " ormalization)                                                                                    \n",
            "                                                                                                  \n",
            " add_4 (Add)                    (None, 24, 24, 64)   0           ['add_3[0][0]',                  \n",
            "                                                                  'batch_normalization_17[0][0]'] \n",
            "                                                                                                  \n",
            " conv2d_20 (Conv2D)             (None, 24, 24, 64)   36928       ['add_4[0][0]']                  \n",
            "                                                                                                  \n",
            " batch_normalization_18 (BatchN  (None, 24, 24, 64)  256         ['conv2d_20[0][0]']              \n",
            " ormalization)                                                                                    \n",
            "                                                                                                  \n",
            " p_re_lu_6 (PReLU)              (None, 24, 24, 64)   36864       ['batch_normalization_18[0][0]'] \n",
            "                                                                                                  \n",
            " conv2d_21 (Conv2D)             (None, 24, 24, 64)   36928       ['p_re_lu_6[0][0]']              \n",
            "                                                                                                  \n",
            " batch_normalization_19 (BatchN  (None, 24, 24, 64)  256         ['conv2d_21[0][0]']              \n",
            " ormalization)                                                                                    \n",
            "                                                                                                  \n",
            " add_5 (Add)                    (None, 24, 24, 64)   0           ['add_4[0][0]',                  \n",
            "                                                                  'batch_normalization_19[0][0]'] \n",
            "                                                                                                  \n",
            " conv2d_22 (Conv2D)             (None, 24, 24, 64)   36928       ['add_5[0][0]']                  \n",
            "                                                                                                  \n",
            " batch_normalization_20 (BatchN  (None, 24, 24, 64)  256         ['conv2d_22[0][0]']              \n",
            " ormalization)                                                                                    \n",
            "                                                                                                  \n",
            " p_re_lu_7 (PReLU)              (None, 24, 24, 64)   36864       ['batch_normalization_20[0][0]'] \n",
            "                                                                                                  \n",
            " conv2d_23 (Conv2D)             (None, 24, 24, 64)   36928       ['p_re_lu_7[0][0]']              \n",
            "                                                                                                  \n",
            " batch_normalization_21 (BatchN  (None, 24, 24, 64)  256         ['conv2d_23[0][0]']              \n",
            " ormalization)                                                                                    \n",
            "                                                                                                  \n",
            " add_6 (Add)                    (None, 24, 24, 64)   0           ['add_5[0][0]',                  \n",
            "                                                                  'batch_normalization_21[0][0]'] \n",
            "                                                                                                  \n",
            " conv2d_24 (Conv2D)             (None, 24, 24, 64)   36928       ['add_6[0][0]']                  \n",
            "                                                                                                  \n",
            " batch_normalization_22 (BatchN  (None, 24, 24, 64)  256         ['conv2d_24[0][0]']              \n",
            " ormalization)                                                                                    \n",
            "                                                                                                  \n",
            " p_re_lu_8 (PReLU)              (None, 24, 24, 64)   36864       ['batch_normalization_22[0][0]'] \n",
            "                                                                                                  \n",
            " conv2d_25 (Conv2D)             (None, 24, 24, 64)   36928       ['p_re_lu_8[0][0]']              \n",
            "                                                                                                  \n",
            " batch_normalization_23 (BatchN  (None, 24, 24, 64)  256         ['conv2d_25[0][0]']              \n",
            " ormalization)                                                                                    \n",
            "                                                                                                  \n",
            " add_7 (Add)                    (None, 24, 24, 64)   0           ['add_6[0][0]',                  \n",
            "                                                                  'batch_normalization_23[0][0]'] \n",
            "                                                                                                  \n",
            " conv2d_26 (Conv2D)             (None, 24, 24, 64)   36928       ['add_7[0][0]']                  \n",
            "                                                                                                  \n",
            " batch_normalization_24 (BatchN  (None, 24, 24, 64)  256         ['conv2d_26[0][0]']              \n",
            " ormalization)                                                                                    \n",
            "                                                                                                  \n",
            " p_re_lu_9 (PReLU)              (None, 24, 24, 64)   36864       ['batch_normalization_24[0][0]'] \n",
            "                                                                                                  \n",
            " conv2d_27 (Conv2D)             (None, 24, 24, 64)   36928       ['p_re_lu_9[0][0]']              \n",
            "                                                                                                  \n",
            " batch_normalization_25 (BatchN  (None, 24, 24, 64)  256         ['conv2d_27[0][0]']              \n",
            " ormalization)                                                                                    \n",
            "                                                                                                  \n",
            " add_8 (Add)                    (None, 24, 24, 64)   0           ['add_7[0][0]',                  \n",
            "                                                                  'batch_normalization_25[0][0]'] \n",
            "                                                                                                  \n",
            " conv2d_28 (Conv2D)             (None, 24, 24, 64)   36928       ['add_8[0][0]']                  \n",
            "                                                                                                  \n",
            " batch_normalization_26 (BatchN  (None, 24, 24, 64)  256         ['conv2d_28[0][0]']              \n",
            " ormalization)                                                                                    \n",
            "                                                                                                  \n",
            " p_re_lu_10 (PReLU)             (None, 24, 24, 64)   36864       ['batch_normalization_26[0][0]'] \n",
            "                                                                                                  \n",
            " conv2d_29 (Conv2D)             (None, 24, 24, 64)   36928       ['p_re_lu_10[0][0]']             \n",
            "                                                                                                  \n",
            " batch_normalization_27 (BatchN  (None, 24, 24, 64)  256         ['conv2d_29[0][0]']              \n",
            " ormalization)                                                                                    \n",
            "                                                                                                  \n",
            " add_9 (Add)                    (None, 24, 24, 64)   0           ['add_8[0][0]',                  \n",
            "                                                                  'batch_normalization_27[0][0]'] \n",
            "                                                                                                  \n",
            " conv2d_30 (Conv2D)             (None, 24, 24, 64)   36928       ['add_9[0][0]']                  \n",
            "                                                                                                  \n",
            " batch_normalization_28 (BatchN  (None, 24, 24, 64)  256         ['conv2d_30[0][0]']              \n",
            " ormalization)                                                                                    \n",
            "                                                                                                  \n",
            " p_re_lu_11 (PReLU)             (None, 24, 24, 64)   36864       ['batch_normalization_28[0][0]'] \n",
            "                                                                                                  \n",
            " conv2d_31 (Conv2D)             (None, 24, 24, 64)   36928       ['p_re_lu_11[0][0]']             \n",
            "                                                                                                  \n",
            " batch_normalization_29 (BatchN  (None, 24, 24, 64)  256         ['conv2d_31[0][0]']              \n",
            " ormalization)                                                                                    \n",
            "                                                                                                  \n",
            " add_10 (Add)                   (None, 24, 24, 64)   0           ['add_9[0][0]',                  \n",
            "                                                                  'batch_normalization_29[0][0]'] \n",
            "                                                                                                  \n",
            " conv2d_32 (Conv2D)             (None, 24, 24, 64)   36928       ['add_10[0][0]']                 \n",
            "                                                                                                  \n",
            " batch_normalization_30 (BatchN  (None, 24, 24, 64)  256         ['conv2d_32[0][0]']              \n",
            " ormalization)                                                                                    \n",
            "                                                                                                  \n",
            " p_re_lu_12 (PReLU)             (None, 24, 24, 64)   36864       ['batch_normalization_30[0][0]'] \n",
            "                                                                                                  \n",
            " conv2d_33 (Conv2D)             (None, 24, 24, 64)   36928       ['p_re_lu_12[0][0]']             \n",
            "                                                                                                  \n",
            " batch_normalization_31 (BatchN  (None, 24, 24, 64)  256         ['conv2d_33[0][0]']              \n",
            " ormalization)                                                                                    \n",
            "                                                                                                  \n",
            " add_11 (Add)                   (None, 24, 24, 64)   0           ['add_10[0][0]',                 \n",
            "                                                                  'batch_normalization_31[0][0]'] \n",
            "                                                                                                  \n",
            " conv2d_34 (Conv2D)             (None, 24, 24, 64)   36928       ['add_11[0][0]']                 \n",
            "                                                                                                  \n",
            " batch_normalization_32 (BatchN  (None, 24, 24, 64)  256         ['conv2d_34[0][0]']              \n",
            " ormalization)                                                                                    \n",
            "                                                                                                  \n",
            " p_re_lu_13 (PReLU)             (None, 24, 24, 64)   36864       ['batch_normalization_32[0][0]'] \n",
            "                                                                                                  \n",
            " conv2d_35 (Conv2D)             (None, 24, 24, 64)   36928       ['p_re_lu_13[0][0]']             \n",
            "                                                                                                  \n",
            " batch_normalization_33 (BatchN  (None, 24, 24, 64)  256         ['conv2d_35[0][0]']              \n",
            " ormalization)                                                                                    \n",
            "                                                                                                  \n",
            " add_12 (Add)                   (None, 24, 24, 64)   0           ['add_11[0][0]',                 \n",
            "                                                                  'batch_normalization_33[0][0]'] \n",
            "                                                                                                  \n",
            " conv2d_36 (Conv2D)             (None, 24, 24, 64)   36928       ['add_12[0][0]']                 \n",
            "                                                                                                  \n",
            " batch_normalization_34 (BatchN  (None, 24, 24, 64)  256         ['conv2d_36[0][0]']              \n",
            " ormalization)                                                                                    \n",
            "                                                                                                  \n",
            " p_re_lu_14 (PReLU)             (None, 24, 24, 64)   36864       ['batch_normalization_34[0][0]'] \n",
            "                                                                                                  \n",
            " conv2d_37 (Conv2D)             (None, 24, 24, 64)   36928       ['p_re_lu_14[0][0]']             \n",
            "                                                                                                  \n",
            " batch_normalization_35 (BatchN  (None, 24, 24, 64)  256         ['conv2d_37[0][0]']              \n",
            " ormalization)                                                                                    \n",
            "                                                                                                  \n",
            " add_13 (Add)                   (None, 24, 24, 64)   0           ['add_12[0][0]',                 \n",
            "                                                                  'batch_normalization_35[0][0]'] \n",
            "                                                                                                  \n",
            " conv2d_38 (Conv2D)             (None, 24, 24, 64)   36928       ['add_13[0][0]']                 \n",
            "                                                                                                  \n",
            " batch_normalization_36 (BatchN  (None, 24, 24, 64)  256         ['conv2d_38[0][0]']              \n",
            " ormalization)                                                                                    \n",
            "                                                                                                  \n",
            " p_re_lu_15 (PReLU)             (None, 24, 24, 64)   36864       ['batch_normalization_36[0][0]'] \n",
            "                                                                                                  \n",
            " conv2d_39 (Conv2D)             (None, 24, 24, 64)   36928       ['p_re_lu_15[0][0]']             \n",
            "                                                                                                  \n",
            " batch_normalization_37 (BatchN  (None, 24, 24, 64)  256         ['conv2d_39[0][0]']              \n",
            " ormalization)                                                                                    \n",
            "                                                                                                  \n",
            " add_14 (Add)                   (None, 24, 24, 64)   0           ['add_13[0][0]',                 \n",
            "                                                                  'batch_normalization_37[0][0]'] \n",
            "                                                                                                  \n",
            " conv2d_40 (Conv2D)             (None, 24, 24, 64)   36928       ['add_14[0][0]']                 \n",
            "                                                                                                  \n",
            " batch_normalization_38 (BatchN  (None, 24, 24, 64)  256         ['conv2d_40[0][0]']              \n",
            " ormalization)                                                                                    \n",
            "                                                                                                  \n",
            " add_15 (Add)                   (None, 24, 24, 64)   0           ['p_re_lu[0][0]',                \n",
            "                                                                  'batch_normalization_38[0][0]'] \n",
            "                                                                                                  \n",
            " conv2d_41 (Conv2D)             (None, 24, 24, 256)  147712      ['add_15[0][0]']                 \n",
            "                                                                                                  \n",
            " tf.nn.depth_to_space (TFOpLamb  (None, 48, 48, 64)  0           ['conv2d_41[0][0]']              \n",
            " da)                                                                                              \n",
            "                                                                                                  \n",
            " conv2d_42 (Conv2D)             (None, 48, 48, 256)  147712      ['tf.nn.depth_to_space[0][0]']   \n",
            "                                                                                                  \n",
            " tf.nn.depth_to_space_1 (TFOpLa  (None, 96, 96, 64)  0           ['conv2d_42[0][0]']              \n",
            " mbda)                                                                                            \n",
            "                                                                                                  \n",
            " p_re_lu_17 (PReLU)             (None, 96, 96, 64)   589824      ['tf.nn.depth_to_space_1[0][0]'] \n",
            "                                                                                                  \n",
            " conv2d_43 (Conv2D)             (None, 96, 96, 1)    5185        ['p_re_lu_17[0][0]']             \n",
            "                                                                                                  \n",
            " rescaling (Rescaling)          (None, 96, 96, 1)    0           ['conv2d_43[0][0]']              \n",
            "                                                                                                  \n",
            "==================================================================================================\n",
            "Total params: 2,638,209\n",
            "Trainable params: 2,634,241\n",
            "Non-trainable params: 3,968\n",
            "__________________________________________________________________________________________________\n",
            "(32, 96, 96, 1)\n",
            "(64, 96, 96, 1)\n",
            "(64, 96, 96, 3)\n"
          ]
        },
        {
          "output_type": "error",
          "ename": "KeyboardInterrupt",
          "evalue": "ignored",
          "traceback": [
            "\u001b[0;31m---------------------------------------------------------------------------\u001b[0m",
            "\u001b[0;31mKeyboardInterrupt\u001b[0m                         Traceback (most recent call last)",
            "\u001b[0;32m<ipython-input-21-31b492b121d7>\u001b[0m in \u001b[0;36m<module>\u001b[0;34m()\u001b[0m\n\u001b[1;32m     14\u001b[0m \u001b[0mgan_model\u001b[0m\u001b[0;34m.\u001b[0m\u001b[0mcompile\u001b[0m\u001b[0;34m(\u001b[0m\u001b[0mloss\u001b[0m\u001b[0;34m=\u001b[0m\u001b[0;34m[\u001b[0m\u001b[0;34m\"binary_crossentropy\"\u001b[0m\u001b[0;34m,\u001b[0m\u001b[0;34m\"mse\"\u001b[0m\u001b[0;34m]\u001b[0m\u001b[0;34m,\u001b[0m\u001b[0moptimizer\u001b[0m\u001b[0;34m=\u001b[0m\u001b[0mGOptimizer\u001b[0m\u001b[0;34m,\u001b[0m\u001b[0mloss_weights\u001b[0m\u001b[0;34m=\u001b[0m\u001b[0;34m[\u001b[0m\u001b[0;36m1e-3\u001b[0m\u001b[0;34m,\u001b[0m\u001b[0;36m1\u001b[0m\u001b[0;34m]\u001b[0m\u001b[0;34m)\u001b[0m\u001b[0;34m\u001b[0m\u001b[0;34m\u001b[0m\u001b[0m\n\u001b[1;32m     15\u001b[0m \u001b[0;34m\u001b[0m\u001b[0m\n\u001b[0;32m---> 16\u001b[0;31m \u001b[0mtrain\u001b[0m\u001b[0;34m(\u001b[0m\u001b[0mgen_model\u001b[0m\u001b[0;34m,\u001b[0m\u001b[0mdis_model\u001b[0m\u001b[0;34m,\u001b[0m \u001b[0mgan_model\u001b[0m\u001b[0;34m,\u001b[0m \u001b[0mtrain_ds\u001b[0m\u001b[0;34m)\u001b[0m\u001b[0;34m\u001b[0m\u001b[0;34m\u001b[0m\u001b[0m\n\u001b[0m",
            "\u001b[0;32m<ipython-input-20-783f8e187e0d>\u001b[0m in \u001b[0;36mtrain\u001b[0;34m(gen_model, dis_model, gan_model, dataset, epochs, batch)\u001b[0m\n\u001b[1;32m     17\u001b[0m         \u001b[0mprint\u001b[0m\u001b[0;34m(\u001b[0m\u001b[0mdata\u001b[0m\u001b[0;34m[\u001b[0m\u001b[0;36m2\u001b[0m\u001b[0;34m]\u001b[0m\u001b[0;34m.\u001b[0m\u001b[0mshape\u001b[0m\u001b[0;34m)\u001b[0m\u001b[0;34m\u001b[0m\u001b[0;34m\u001b[0m\u001b[0m\n\u001b[1;32m     18\u001b[0m         \u001b[0mpredict\u001b[0m \u001b[0;34m=\u001b[0m \u001b[0mvgg\u001b[0m\u001b[0;34m.\u001b[0m\u001b[0mpredict\u001b[0m\u001b[0;34m(\u001b[0m\u001b[0mdata\u001b[0m\u001b[0;34m[\u001b[0m\u001b[0;36m2\u001b[0m\u001b[0;34m]\u001b[0m\u001b[0;34m)\u001b[0m\u001b[0;34m\u001b[0m\u001b[0;34m\u001b[0m\u001b[0m\n\u001b[0;32m---> 19\u001b[0;31m         \u001b[0mg_loss\u001b[0m\u001b[0;34m,\u001b[0m\u001b[0m_\u001b[0m\u001b[0;34m,\u001b[0m\u001b[0m_\u001b[0m \u001b[0;34m=\u001b[0m \u001b[0mgan_model\u001b[0m\u001b[0;34m.\u001b[0m\u001b[0mtrain_on_batch\u001b[0m\u001b[0;34m(\u001b[0m\u001b[0;34m[\u001b[0m\u001b[0mdata\u001b[0m\u001b[0;34m[\u001b[0m\u001b[0;36m0\u001b[0m\u001b[0;34m]\u001b[0m\u001b[0;34m,\u001b[0m\u001b[0mdata\u001b[0m\u001b[0;34m[\u001b[0m\u001b[0;36m1\u001b[0m\u001b[0;34m]\u001b[0m\u001b[0;34m]\u001b[0m\u001b[0;34m,\u001b[0m\u001b[0;34m[\u001b[0m\u001b[0my_gan\u001b[0m\u001b[0;34m,\u001b[0m\u001b[0mpredict\u001b[0m\u001b[0;34m]\u001b[0m\u001b[0;34m)\u001b[0m\u001b[0;34m\u001b[0m\u001b[0;34m\u001b[0m\u001b[0m\n\u001b[0m\u001b[1;32m     20\u001b[0m         \u001b[0mprint\u001b[0m\u001b[0;34m(\u001b[0m\u001b[0;34m'>epoch: %d, batch: %d/%d, discriminator loss: d=%.3f, overall model loss: g=%.3f'\u001b[0m \u001b[0;34m%\u001b[0m \u001b[0;34m(\u001b[0m\u001b[0mm\u001b[0m\u001b[0;34m,\u001b[0m \u001b[0mid\u001b[0m\u001b[0;34m,\u001b[0m \u001b[0mbatch\u001b[0m\u001b[0;34m,\u001b[0m \u001b[0md_loss\u001b[0m\u001b[0;34m,\u001b[0m \u001b[0mg_loss\u001b[0m\u001b[0;34m)\u001b[0m\u001b[0;34m)\u001b[0m\u001b[0;34m\u001b[0m\u001b[0;34m\u001b[0m\u001b[0m\n\u001b[1;32m     21\u001b[0m       \u001b[0;32mif\u001b[0m \u001b[0;34m(\u001b[0m\u001b[0mm\u001b[0m\u001b[0;34m+\u001b[0m\u001b[0;36m1\u001b[0m\u001b[0;34m)\u001b[0m \u001b[0;34m%\u001b[0m \u001b[0;36m10\u001b[0m \u001b[0;34m==\u001b[0m \u001b[0;36m0\u001b[0m\u001b[0;34m:\u001b[0m\u001b[0;34m\u001b[0m\u001b[0;34m\u001b[0m\u001b[0m\n",
            "\u001b[0;32m/usr/local/lib/python3.7/dist-packages/keras/engine/training.py\u001b[0m in \u001b[0;36mtrain_on_batch\u001b[0;34m(self, x, y, sample_weight, class_weight, reset_metrics, return_dict)\u001b[0m\n\u001b[1;32m   2091\u001b[0m                                                     class_weight)\n\u001b[1;32m   2092\u001b[0m       \u001b[0mself\u001b[0m\u001b[0;34m.\u001b[0m\u001b[0mtrain_function\u001b[0m \u001b[0;34m=\u001b[0m \u001b[0mself\u001b[0m\u001b[0;34m.\u001b[0m\u001b[0mmake_train_function\u001b[0m\u001b[0;34m(\u001b[0m\u001b[0;34m)\u001b[0m\u001b[0;34m\u001b[0m\u001b[0;34m\u001b[0m\u001b[0m\n\u001b[0;32m-> 2093\u001b[0;31m       \u001b[0mlogs\u001b[0m \u001b[0;34m=\u001b[0m \u001b[0mself\u001b[0m\u001b[0;34m.\u001b[0m\u001b[0mtrain_function\u001b[0m\u001b[0;34m(\u001b[0m\u001b[0miterator\u001b[0m\u001b[0;34m)\u001b[0m\u001b[0;34m\u001b[0m\u001b[0;34m\u001b[0m\u001b[0m\n\u001b[0m\u001b[1;32m   2094\u001b[0m \u001b[0;34m\u001b[0m\u001b[0m\n\u001b[1;32m   2095\u001b[0m     \u001b[0mlogs\u001b[0m \u001b[0;34m=\u001b[0m \u001b[0mtf_utils\u001b[0m\u001b[0;34m.\u001b[0m\u001b[0msync_to_numpy_or_python_type\u001b[0m\u001b[0;34m(\u001b[0m\u001b[0mlogs\u001b[0m\u001b[0;34m)\u001b[0m\u001b[0;34m\u001b[0m\u001b[0;34m\u001b[0m\u001b[0m\n",
            "\u001b[0;32m/usr/local/lib/python3.7/dist-packages/tensorflow/python/util/traceback_utils.py\u001b[0m in \u001b[0;36merror_handler\u001b[0;34m(*args, **kwargs)\u001b[0m\n\u001b[1;32m    148\u001b[0m     \u001b[0mfiltered_tb\u001b[0m \u001b[0;34m=\u001b[0m \u001b[0;32mNone\u001b[0m\u001b[0;34m\u001b[0m\u001b[0;34m\u001b[0m\u001b[0m\n\u001b[1;32m    149\u001b[0m     \u001b[0;32mtry\u001b[0m\u001b[0;34m:\u001b[0m\u001b[0;34m\u001b[0m\u001b[0;34m\u001b[0m\u001b[0m\n\u001b[0;32m--> 150\u001b[0;31m       \u001b[0;32mreturn\u001b[0m \u001b[0mfn\u001b[0m\u001b[0;34m(\u001b[0m\u001b[0;34m*\u001b[0m\u001b[0margs\u001b[0m\u001b[0;34m,\u001b[0m \u001b[0;34m**\u001b[0m\u001b[0mkwargs\u001b[0m\u001b[0;34m)\u001b[0m\u001b[0;34m\u001b[0m\u001b[0;34m\u001b[0m\u001b[0m\n\u001b[0m\u001b[1;32m    151\u001b[0m     \u001b[0;32mexcept\u001b[0m \u001b[0mException\u001b[0m \u001b[0;32mas\u001b[0m \u001b[0me\u001b[0m\u001b[0;34m:\u001b[0m\u001b[0;34m\u001b[0m\u001b[0;34m\u001b[0m\u001b[0m\n\u001b[1;32m    152\u001b[0m       \u001b[0mfiltered_tb\u001b[0m \u001b[0;34m=\u001b[0m \u001b[0m_process_traceback_frames\u001b[0m\u001b[0;34m(\u001b[0m\u001b[0me\u001b[0m\u001b[0;34m.\u001b[0m\u001b[0m__traceback__\u001b[0m\u001b[0;34m)\u001b[0m\u001b[0;34m\u001b[0m\u001b[0;34m\u001b[0m\u001b[0m\n",
            "\u001b[0;32m/usr/local/lib/python3.7/dist-packages/tensorflow/python/eager/def_function.py\u001b[0m in \u001b[0;36m__call__\u001b[0;34m(self, *args, **kwds)\u001b[0m\n\u001b[1;32m    913\u001b[0m \u001b[0;34m\u001b[0m\u001b[0m\n\u001b[1;32m    914\u001b[0m       \u001b[0;32mwith\u001b[0m \u001b[0mOptionalXlaContext\u001b[0m\u001b[0;34m(\u001b[0m\u001b[0mself\u001b[0m\u001b[0;34m.\u001b[0m\u001b[0m_jit_compile\u001b[0m\u001b[0;34m)\u001b[0m\u001b[0;34m:\u001b[0m\u001b[0;34m\u001b[0m\u001b[0;34m\u001b[0m\u001b[0m\n\u001b[0;32m--> 915\u001b[0;31m         \u001b[0mresult\u001b[0m \u001b[0;34m=\u001b[0m \u001b[0mself\u001b[0m\u001b[0;34m.\u001b[0m\u001b[0m_call\u001b[0m\u001b[0;34m(\u001b[0m\u001b[0;34m*\u001b[0m\u001b[0margs\u001b[0m\u001b[0;34m,\u001b[0m \u001b[0;34m**\u001b[0m\u001b[0mkwds\u001b[0m\u001b[0;34m)\u001b[0m\u001b[0;34m\u001b[0m\u001b[0;34m\u001b[0m\u001b[0m\n\u001b[0m\u001b[1;32m    916\u001b[0m \u001b[0;34m\u001b[0m\u001b[0m\n\u001b[1;32m    917\u001b[0m       \u001b[0mnew_tracing_count\u001b[0m \u001b[0;34m=\u001b[0m \u001b[0mself\u001b[0m\u001b[0;34m.\u001b[0m\u001b[0mexperimental_get_tracing_count\u001b[0m\u001b[0;34m(\u001b[0m\u001b[0;34m)\u001b[0m\u001b[0;34m\u001b[0m\u001b[0;34m\u001b[0m\u001b[0m\n",
            "\u001b[0;32m/usr/local/lib/python3.7/dist-packages/tensorflow/python/eager/def_function.py\u001b[0m in \u001b[0;36m_call\u001b[0;34m(self, *args, **kwds)\u001b[0m\n\u001b[1;32m    978\u001b[0m         \u001b[0;31m# Lifting succeeded, so variables are initialized and we can run the\u001b[0m\u001b[0;34m\u001b[0m\u001b[0;34m\u001b[0m\u001b[0;34m\u001b[0m\u001b[0m\n\u001b[1;32m    979\u001b[0m         \u001b[0;31m# stateless function.\u001b[0m\u001b[0;34m\u001b[0m\u001b[0;34m\u001b[0m\u001b[0;34m\u001b[0m\u001b[0m\n\u001b[0;32m--> 980\u001b[0;31m         \u001b[0;32mreturn\u001b[0m \u001b[0mself\u001b[0m\u001b[0;34m.\u001b[0m\u001b[0m_stateless_fn\u001b[0m\u001b[0;34m(\u001b[0m\u001b[0;34m*\u001b[0m\u001b[0margs\u001b[0m\u001b[0;34m,\u001b[0m \u001b[0;34m**\u001b[0m\u001b[0mkwds\u001b[0m\u001b[0;34m)\u001b[0m\u001b[0;34m\u001b[0m\u001b[0;34m\u001b[0m\u001b[0m\n\u001b[0m\u001b[1;32m    981\u001b[0m     \u001b[0;32melse\u001b[0m\u001b[0;34m:\u001b[0m\u001b[0;34m\u001b[0m\u001b[0;34m\u001b[0m\u001b[0m\n\u001b[1;32m    982\u001b[0m       \u001b[0m_\u001b[0m\u001b[0;34m,\u001b[0m \u001b[0m_\u001b[0m\u001b[0;34m,\u001b[0m \u001b[0m_\u001b[0m\u001b[0;34m,\u001b[0m \u001b[0mfiltered_flat_args\u001b[0m \u001b[0;34m=\u001b[0m\u001b[0;31m \u001b[0m\u001b[0;31m\\\u001b[0m\u001b[0;34m\u001b[0m\u001b[0;34m\u001b[0m\u001b[0m\n",
            "\u001b[0;32m/usr/local/lib/python3.7/dist-packages/tensorflow/python/eager/function.py\u001b[0m in \u001b[0;36m__call__\u001b[0;34m(self, *args, **kwargs)\u001b[0m\n\u001b[1;32m   2955\u001b[0m        filtered_flat_args) = self._maybe_define_function(args, kwargs)\n\u001b[1;32m   2956\u001b[0m     return graph_function._call_flat(\n\u001b[0;32m-> 2957\u001b[0;31m         filtered_flat_args, captured_inputs=graph_function.captured_inputs)  # pylint: disable=protected-access\n\u001b[0m\u001b[1;32m   2958\u001b[0m \u001b[0;34m\u001b[0m\u001b[0m\n\u001b[1;32m   2959\u001b[0m   \u001b[0;34m@\u001b[0m\u001b[0mproperty\u001b[0m\u001b[0;34m\u001b[0m\u001b[0;34m\u001b[0m\u001b[0m\n",
            "\u001b[0;32m/usr/local/lib/python3.7/dist-packages/tensorflow/python/eager/function.py\u001b[0m in \u001b[0;36m_call_flat\u001b[0;34m(self, args, captured_inputs, cancellation_manager)\u001b[0m\n\u001b[1;32m   1852\u001b[0m       \u001b[0;31m# No tape is watching; skip to running the function.\u001b[0m\u001b[0;34m\u001b[0m\u001b[0;34m\u001b[0m\u001b[0;34m\u001b[0m\u001b[0m\n\u001b[1;32m   1853\u001b[0m       return self._build_call_outputs(self._inference_function.call(\n\u001b[0;32m-> 1854\u001b[0;31m           ctx, args, cancellation_manager=cancellation_manager))\n\u001b[0m\u001b[1;32m   1855\u001b[0m     forward_backward = self._select_forward_and_backward_functions(\n\u001b[1;32m   1856\u001b[0m         \u001b[0margs\u001b[0m\u001b[0;34m,\u001b[0m\u001b[0;34m\u001b[0m\u001b[0;34m\u001b[0m\u001b[0m\n",
            "\u001b[0;32m/usr/local/lib/python3.7/dist-packages/tensorflow/python/eager/function.py\u001b[0m in \u001b[0;36mcall\u001b[0;34m(self, ctx, args, cancellation_manager)\u001b[0m\n\u001b[1;32m    502\u001b[0m               \u001b[0minputs\u001b[0m\u001b[0;34m=\u001b[0m\u001b[0margs\u001b[0m\u001b[0;34m,\u001b[0m\u001b[0;34m\u001b[0m\u001b[0;34m\u001b[0m\u001b[0m\n\u001b[1;32m    503\u001b[0m               \u001b[0mattrs\u001b[0m\u001b[0;34m=\u001b[0m\u001b[0mattrs\u001b[0m\u001b[0;34m,\u001b[0m\u001b[0;34m\u001b[0m\u001b[0;34m\u001b[0m\u001b[0m\n\u001b[0;32m--> 504\u001b[0;31m               ctx=ctx)\n\u001b[0m\u001b[1;32m    505\u001b[0m         \u001b[0;32melse\u001b[0m\u001b[0;34m:\u001b[0m\u001b[0;34m\u001b[0m\u001b[0;34m\u001b[0m\u001b[0m\n\u001b[1;32m    506\u001b[0m           outputs = execute.execute_with_cancellation(\n",
            "\u001b[0;32m/usr/local/lib/python3.7/dist-packages/tensorflow/python/eager/execute.py\u001b[0m in \u001b[0;36mquick_execute\u001b[0;34m(op_name, num_outputs, inputs, attrs, ctx, name)\u001b[0m\n\u001b[1;32m     53\u001b[0m     \u001b[0mctx\u001b[0m\u001b[0;34m.\u001b[0m\u001b[0mensure_initialized\u001b[0m\u001b[0;34m(\u001b[0m\u001b[0;34m)\u001b[0m\u001b[0;34m\u001b[0m\u001b[0;34m\u001b[0m\u001b[0m\n\u001b[1;32m     54\u001b[0m     tensors = pywrap_tfe.TFE_Py_Execute(ctx._handle, device_name, op_name,\n\u001b[0;32m---> 55\u001b[0;31m                                         inputs, attrs, num_outputs)\n\u001b[0m\u001b[1;32m     56\u001b[0m   \u001b[0;32mexcept\u001b[0m \u001b[0mcore\u001b[0m\u001b[0;34m.\u001b[0m\u001b[0m_NotOkStatusException\u001b[0m \u001b[0;32mas\u001b[0m \u001b[0me\u001b[0m\u001b[0;34m:\u001b[0m\u001b[0;34m\u001b[0m\u001b[0;34m\u001b[0m\u001b[0m\n\u001b[1;32m     57\u001b[0m     \u001b[0;32mif\u001b[0m \u001b[0mname\u001b[0m \u001b[0;32mis\u001b[0m \u001b[0;32mnot\u001b[0m \u001b[0;32mNone\u001b[0m\u001b[0;34m:\u001b[0m\u001b[0;34m\u001b[0m\u001b[0;34m\u001b[0m\u001b[0m\n",
            "\u001b[0;31mKeyboardInterrupt\u001b[0m: "
          ]
        }
      ]
    },
    {
      "cell_type": "code",
      "source": [
        "gen_model=tf.keras.models.load_model('/gdrive/MyDrive/dataset/saved_model/generator_model_100.h5')\n",
        "testing_img = '/gdrive/MyDrive/dataset/finished/test/dt_val_3.jpg'\n",
        "fake_input_arr = np.array([testing_img])\n",
        "x_img,y_img = hq_image_generator(gen_model,fake_input_arr,1,0,False)\n",
        "save_plot(x_img)\n",
        "orgy_image = load_img(testing_img)\n",
        "org = img_to_array(orgy_image)\n",
        "save_plot(org)\n",
        "\n",
        "\n",
        "\n"
      ],
      "metadata": {
        "id": "EwpkSms0A5Hf"
      },
      "execution_count": null,
      "outputs": []
    }
  ],
  "metadata": {
    "kernelspec": {
      "display_name": "Python 3.10.4 64-bit",
      "language": "python",
      "name": "python3"
    },
    "language_info": {
      "codemirror_mode": {
        "name": "ipython",
        "version": 3
      },
      "file_extension": ".py",
      "mimetype": "text/x-python",
      "name": "python",
      "nbconvert_exporter": "python",
      "pygments_lexer": "ipython3",
      "version": "3.10.4"
    },
    "orig_nbformat": 4,
    "vscode": {
      "interpreter": {
        "hash": "916dbcbb3f70747c44a77c7bcd40155683ae19c65e1c03b4aa3499c5328201f1"
      }
    },
    "colab": {
      "name": "ganfull_(3).ipynb",
      "provenance": [],
      "collapsed_sections": [],
      "include_colab_link": true
    },
    "accelerator": "GPU",
    "gpuClass": "standard"
  },
  "nbformat": 4,
  "nbformat_minor": 0
}